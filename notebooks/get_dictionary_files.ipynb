{
 "cells": [
  {
   "cell_type": "code",
   "execution_count": 1,
   "id": "d4727c4e-1fba-4ce2-83bd-8b20f4665e08",
   "metadata": {},
   "outputs": [],
   "source": [
    "import glob\n",
    "import pandas as pd"
   ]
  },
  {
   "cell_type": "code",
   "execution_count": 2,
   "id": "a006a2af-6ce4-4e5c-b6e0-8d54ee64bbad",
   "metadata": {},
   "outputs": [],
   "source": [
    "# Get a list of all data directories\n",
    "directories = glob.glob(\"phs*\")"
   ]
  },
  {
   "cell_type": "code",
   "execution_count": 3,
   "id": "599bd78c-d440-4b82-b433-ce219368886e",
   "metadata": {},
   "outputs": [
    {
     "name": "stdout",
     "output_type": "stream",
     "text": [
      "[]\n"
     ]
    }
   ],
   "source": [
    "print(directories)"
   ]
  },
  {
   "cell_type": "code",
   "execution_count": null,
   "id": "e173fdc6-af54-40c9-8629-350dbcb900e2",
   "metadata": {},
   "outputs": [],
   "source": [
    "### Concatenate the dictionaries for all studies"
   ]
  },
  {
   "cell_type": "code",
   "execution_count": null,
   "id": "3357ddce-ad4c-46d3-b191-9967347821c4",
   "metadata": {},
   "outputs": [],
   "source": [
    "def get_data_dictionaries(directories):\n",
    "    dfs = [\n",
    "        df[[\"study\"] + [col for col in df.columns if col != \"study\"]]\n",
    "        for directory in directories\n",
    "        for file in glob.glob(f\"{directory}/*_DICT_origcopy.csv\")\n",
    "        for df in [pd.read_csv(file, dtype=str, keep_default_na=False).assign(study=directory)]\n",
    "    ]\n",
    "    return pd.concat(dfs, ignore_index=True)"
   ]
  },
  {
   "cell_type": "code",
   "execution_count": null,
   "id": "8af1e4ad-f19e-41b3-a128-2ce21fd90aa7",
   "metadata": {},
   "outputs": [],
   "source": [
    "data_dicts = get_data_dictionaries(directories)"
   ]
  },
  {
   "cell_type": "code",
   "execution_count": null,
   "id": "313ba807-5a02-4715-a6d7-927269b5af94",
   "metadata": {},
   "outputs": [],
   "source": []
  }
 ],
 "metadata": {
  "kernelspec": {
   "display_name": "Python 3 (ipykernel)",
   "language": "python",
   "name": "python3"
  },
  "language_info": {
   "codemirror_mode": {
    "name": "ipython",
    "version": 3
   },
   "file_extension": ".py",
   "mimetype": "text/x-python",
   "name": "python",
   "nbconvert_exporter": "python",
   "pygments_lexer": "ipython3",
   "version": "3.11.10"
  }
 },
 "nbformat": 4,
 "nbformat_minor": 5
}
