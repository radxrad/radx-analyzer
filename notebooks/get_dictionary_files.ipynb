{
 "cells": [
  {
   "cell_type": "code",
   "execution_count": null,
   "id": "2dad748d-0497-4b7e-878e-1890b33dc886",
   "metadata": {},
   "outputs": [],
   "source": [
    "import glob\n",
    "import os\n",
    "import pandas as pd"
   ]
  },
  {
   "cell_type": "code",
   "execution_count": null,
   "id": "5e2e74a5-2251-429b-802a-bd8a161f788c",
   "metadata": {},
   "outputs": [],
   "source": [
    "def get_dictionary_files():\n",
    "    dict_list = []\n",
    "\n",
    "    for file in glob.glob(os.path.expanduser(\"~/phs*/**/*_DICT_origcopy.csv\"), recursive=True):\n",
    "        df = pd.read_csv(file, dtype=str, keep_default_na=False)\n",
    "\n",
    "        df[\"study_id\"] = os.path.basename(os.path.dirname(file))\n",
    "        df = df[[\"study_id\"] + [col for col in df.columns if col != \"study_id\"]]  # move \"study_id\" to front\n",
    "\n",
    "        dict_list.append(df)\n",
    "\n",
    "    return pd.concat(dict_list, ignore_index=True)"
   ]
  },
  {
   "cell_type": "code",
   "execution_count": null,
   "id": "dad60376-2f3c-458c-a983-a88a2abcf1f2",
   "metadata": {},
   "outputs": [],
   "source": [
    "dicts = get_dictionary_files()"
   ]
  },
  {
   "cell_type": "code",
   "execution_count": null,
   "id": "51c4d1fc-2fa8-4685-a077-a9c1d2cd2d75",
   "metadata": {},
   "outputs": [],
   "source": [
    "print(f\"Number of studies              : {dicts[\"study_id\"].nunique()}\")\n",
    "print(f\"Number of data elements        : {dicts.shape[0]}\")\n",
    "print(f\"Number of unique data elements : {dicts[\"Id\"].nunique()}\")\n",
    "dicts.head()"
   ]
  }
 ],
 "metadata": {
  "kernelspec": {
   "display_name": "Python 3 (ipykernel)",
   "language": "python",
   "name": "python3"
  },
  "language_info": {
   "codemirror_mode": {
    "name": "ipython",
    "version": 3
   },
   "file_extension": ".py",
   "mimetype": "text/x-python",
   "name": "python",
   "nbconvert_exporter": "python",
   "pygments_lexer": "ipython3",
   "version": "3.11.10"
  }
 },
 "nbformat": 4,
 "nbformat_minor": 5
}
