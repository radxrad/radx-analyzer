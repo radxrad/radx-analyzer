{
 "cells": [
  {
   "cell_type": "markdown",
   "id": "029bf05c-55c2-4cfb-9c75-647d047669bc",
   "metadata": {},
   "source": [
    "## Run this notebook to keep the Jupyter Lab instance from timing out after about 10 to 15 minutes of inactivity."
   ]
  },
  {
   "cell_type": "code",
   "execution_count": 1,
   "id": "e7fb3019-f54a-4001-8bf0-b1a59b023569",
   "metadata": {
    "execution": {
     "iopub.execute_input": "2025-10-22T21:03:44.631416Z",
     "iopub.status.busy": "2025-10-22T21:03:44.631130Z",
     "iopub.status.idle": "2025-10-22T21:03:44.635162Z",
     "shell.execute_reply": "2025-10-22T21:03:44.634379Z",
     "shell.execute_reply.started": "2025-10-22T21:03:44.631395Z"
    }
   },
   "outputs": [],
   "source": [
    "import time"
   ]
  },
  {
   "cell_type": "code",
   "execution_count": null,
   "id": "45ce496d-7a10-423e-8258-873bd8623b68",
   "metadata": {
    "execution": {
     "iopub.execute_input": "2025-10-22T21:03:44.636255Z",
     "iopub.status.busy": "2025-10-22T21:03:44.635820Z"
    }
   },
   "outputs": [],
   "source": [
    "time.sleep(8*3600)  # keep alive for 8 hours"
   ]
  }
 ],
 "metadata": {
  "kernelspec": {
   "display_name": "radx-analyzer",
   "language": "python",
   "name": "radx-analyzer"
  },
  "language_info": {
   "codemirror_mode": {
    "name": "ipython",
    "version": 3
   },
   "file_extension": ".py",
   "mimetype": "text/x-python",
   "name": "python",
   "nbconvert_exporter": "python",
   "pygments_lexer": "ipython3",
   "version": "3.12.9"
  }
 },
 "nbformat": 4,
 "nbformat_minor": 5
}
